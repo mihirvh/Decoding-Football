{
 "cells": [
  {
   "cell_type": "markdown",
   "id": "9bb3a610-d59a-47db-a08b-791049c4d816",
   "metadata": {},
   "source": [
    "# MERGING THE DATA FILES IN A SINGLE WORKBOOK FOR CONNECTING TABLEAU"
   ]
  },
  {
   "cell_type": "code",
   "execution_count": 2,
   "id": "5b1d1725-bd8b-4e17-8204-459d25ec4ce7",
   "metadata": {},
   "outputs": [],
   "source": [
    "import pandas as pd"
   ]
  },
  {
   "cell_type": "code",
   "execution_count": 3,
   "id": "72af750a-6d32-40d2-b28a-2986ff89b18c",
   "metadata": {},
   "outputs": [],
   "source": [
    "import os\n",
    "path1 = os.getcwd() + \"\\\\\"\n",
    "path2 = \"\\\\1_Preprocessing_Data_&_EDA_LEVEL_0\\\\\"\n",
    "final_path = path1 + path2 "
   ]
  },
  {
   "cell_type": "code",
   "execution_count": 4,
   "id": "5ec6e44b-37fd-4c2c-9b0a-112eeeece638",
   "metadata": {},
   "outputs": [
    {
     "data": {
      "text/plain": [
       "'C:\\\\Users\\\\Mihir\\\\8_CAPSTONE PROJECT\\\\S1_Data_Preprocessing\\\\\\\\1_Preprocessing_Data_&_EDA_LEVEL_0\\\\'"
      ]
     },
     "execution_count": 4,
     "metadata": {},
     "output_type": "execute_result"
    }
   ],
   "source": [
    "final_path"
   ]
  },
  {
   "cell_type": "code",
   "execution_count": 5,
   "id": "daa2baef-e992-48b4-8c2f-227417a16e55",
   "metadata": {
    "scrolled": true
   },
   "outputs": [],
   "source": [
    "## CREATING DATAFRAMES OF EACH TREATED CSV FILE\n",
    "appearances_df_no_win = pd.read_csv(final_path + \"appearances_df_no_win.csv\")\n",
    "players_df_winsorised = pd.read_csv(final_path + \"players_df_winsorised.csv\")\n",
    "games_df_winsorised = pd.read_csv(final_path + \"games_df_winsorised.csv\")\n",
    "game_lineups_df_no_win = pd.read_csv(final_path + \"game_lineups_df_no_win.csv\")\n",
    "game_events_df_no_win = pd.read_csv(final_path + \"game_events_df_no_win.csv\")\n",
    "test_df = pd.read_csv(final_path + \"test data.csv\")"
   ]
  },
  {
   "cell_type": "code",
   "execution_count": 6,
   "id": "af6c3ff0-f015-4813-bbe6-f62341a87d4b",
   "metadata": {},
   "outputs": [],
   "source": [
    "# Create a Excel Writer object to write in excel \n",
    "writer = pd.ExcelWriter(r\"C:\\Users\\Mihir\\8_CAPSTONE PROJECT\\all_data_tableau.xlsx\", \n",
    "                        engine = \"xlsxwriter\")\n",
    "\n",
    "# Write each dataframe in a single workbook\n",
    "appearances_df_no_win.to_excel(writer , sheet_name= \"appearances\", index = False)\n",
    "players_df_winsorised.to_excel(writer , sheet_name= \"players\", index = False)\n",
    "games_df_winsorised.to_excel(writer , sheet_name= \"games\", index = False)\n",
    "game_lineups_df_no_win.to_excel(writer , sheet_name= \"game_lineups\", index = False)\n",
    "game_events_df_no_win.to_excel(writer , sheet_name= \"game_events\", index = False)\n",
    "test_df.to_excel(writer , sheet_name= \"test_data\", index = False)\n",
    "\n",
    "# save the workbook and close the connection with the excel file\n",
    "writer.close()"
   ]
  }
 ],
 "metadata": {
  "kernelspec": {
   "display_name": "Python 3 (ipykernel)",
   "language": "python",
   "name": "python3"
  },
  "language_info": {
   "codemirror_mode": {
    "name": "ipython",
    "version": 3
   },
   "file_extension": ".py",
   "mimetype": "text/x-python",
   "name": "python",
   "nbconvert_exporter": "python",
   "pygments_lexer": "ipython3",
   "version": "3.11.5"
  }
 },
 "nbformat": 4,
 "nbformat_minor": 5
}
