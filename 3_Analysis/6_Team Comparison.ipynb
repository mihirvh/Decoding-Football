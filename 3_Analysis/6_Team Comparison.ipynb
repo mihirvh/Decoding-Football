{
 "cells": [
  {
   "cell_type": "markdown",
   "id": "62b99816-8b5a-4b12-9285-a11d5815c79a",
   "metadata": {},
   "source": [
    "# TEAM COMPARISON ANALYSIS"
   ]
  },
  {
   "cell_type": "code",
   "execution_count": 2,
   "id": "7ca884e7-8681-4673-9e8e-c9aaa1194fe5",
   "metadata": {},
   "outputs": [],
   "source": [
    "# Importing Required Libraries\n",
    "import pandas as pd\n",
    "import numpy as np\n",
    "import matplotlib.pyplot as plt\n",
    "import seaborn as sns\n",
    "import warnings\n",
    "warnings.filterwarnings('ignore')"
   ]
  },
  {
   "cell_type": "code",
   "execution_count": 3,
   "id": "c977f3e9-f5a9-4262-af58-16cbafd4585a",
   "metadata": {},
   "outputs": [
    {
     "data": {
      "text/plain": [
       "'C:\\\\Users\\\\Mihir\\\\8_CAPSTONE PROJECT\\\\S1_Data_Preprocessing\\\\1_Preprocessing_Data_&_EDA_LEVEL_0\\\\\\\\'"
      ]
     },
     "execution_count": 3,
     "metadata": {},
     "output_type": "execute_result"
    }
   ],
   "source": [
    "# Setting the path to access the data\n",
    "path = r\"C:\\Users\\Mihir\\8_CAPSTONE PROJECT\\S1_Data_Preprocessing\\1_Preprocessing_Data_&_EDA_LEVEL_0\\\\\"\n",
    "path"
   ]
  },
  {
   "cell_type": "code",
   "execution_count": 4,
   "id": "44038e79-296c-4a83-89b3-a845e7d3af8e",
   "metadata": {},
   "outputs": [],
   "source": [
    "# reading required csv files\n",
    "appearances = pd.read_csv(path + \"appearances_df_no_win.csv\")\n",
    "players = pd.read_csv(path + \"players_df_winsorised.csv\")\n",
    "games = pd.read_csv(path + \"games_df_winsorised.csv\")\n",
    "game_events = pd.read_csv(path + \"game_events_df_no_win.csv\")\n",
    "test = pd.read_csv(path + \"test data.csv\")"
   ]
  },
  {
   "cell_type": "markdown",
   "id": "a3e47244-841e-46b7-9d36-2e7b66730fa5",
   "metadata": {},
   "source": [
    "# Connecting Python To SQL"
   ]
  },
  {
   "cell_type": "code",
   "execution_count": 6,
   "id": "68eca1a0-dceb-4dfb-be90-41d0adb3e5f7",
   "metadata": {},
   "outputs": [],
   "source": [
    "import mysql.connector as sql"
   ]
  },
  {
   "cell_type": "code",
   "execution_count": 7,
   "id": "c804ffac-1697-4633-9a62-628a6958c766",
   "metadata": {},
   "outputs": [
    {
     "name": "stdout",
     "output_type": "stream",
     "text": [
      "Connection Established- to Database:  <mysql.connector.connection_cext.CMySQLConnection object at 0x000001CF5E7B66D0>\n",
      "Connection to Retrieve data:  CMySQLCursor: (Nothing executed yet)\n"
     ]
    }
   ],
   "source": [
    "host = 'localhost'\n",
    "user = 'root'\n",
    "password = '1234'\n",
    "database = 'football_analysis_eda'\n",
    "\n",
    "db = sql.connect(host = host, user = user, password = password, \n",
    "           database = database)\n",
    "print(\"Connection Established- to Database: \", db)\n",
    "\n",
    "mycursor = db.cursor()\n",
    "print(\"Connection to Retrieve data: \", mycursor)"
   ]
  },
  {
   "cell_type": "code",
   "execution_count": 8,
   "id": "656a8255-e3bf-4d47-9f4b-032c41ebbf16",
   "metadata": {},
   "outputs": [],
   "source": [
    "# Retrieving Data From MySQL Server\n",
    "## By Creating a View\n",
    "query = '''SELECT * FROM TEAM_HOME_PERFORMANCE;'''\n",
    "TEAM_HOME_PERFORMANCE = pd.read_sql_query(query,db)\n",
    "\n",
    "query2 = '''SELECT * FROM TEAM_AWAY_PERFORMANCE;'''\n",
    "TEAM_AWAY_PERFORMANCE = pd.read_sql_query(query2,db)\n",
    "\n",
    "query3 = '''SELECT * FROM TEAM_MANAGER_PERFORMANCE;'''\n",
    "TEAM_MANAGER_PERFORMANCE = pd.read_sql_query(query3,db)\n",
    "\n",
    "query4 = '''SELECT * FROM TEAM_WIN_RATIO;'''\n",
    "TEAM_WIN_RATIO = pd.read_sql_query(query4,db)\n",
    "\n",
    "query5 = '''SELECT * FROM TEAM_POSITION_OUTCOME;'''\n",
    "TEAM_POSITION_OUTCOME = pd.read_sql_query(query5,db)\n",
    "\n",
    "query6 = '''SELECT * FROM TEAM_SEASON_PERFORMANCE;'''\n",
    "TEAM_SEASON_PERFORMANCE = pd.read_sql_query(query6,db)\n",
    "db.close()"
   ]
  },
  {
   "cell_type": "markdown",
   "id": "6f34941f-eac0-4052-9fd9-a6f932eb6411",
   "metadata": {},
   "source": [
    "# 1. How do teams compare based on goals scored and in home and away games?"
   ]
  },
  {
   "cell_type": "code",
   "execution_count": 10,
   "id": "d8d36968-aa86-445d-a003-24e8503de191",
   "metadata": {},
   "outputs": [
    {
     "data": {
      "text/html": [
       "<div>\n",
       "<style scoped>\n",
       "    .dataframe tbody tr th:only-of-type {\n",
       "        vertical-align: middle;\n",
       "    }\n",
       "\n",
       "    .dataframe tbody tr th {\n",
       "        vertical-align: top;\n",
       "    }\n",
       "\n",
       "    .dataframe thead th {\n",
       "        text-align: right;\n",
       "    }\n",
       "</style>\n",
       "<table border=\"1\" class=\"dataframe\">\n",
       "  <thead>\n",
       "    <tr style=\"text-align: right;\">\n",
       "      <th></th>\n",
       "      <th>home_club_name</th>\n",
       "      <th>avg_home_goals_scored</th>\n",
       "      <th>avg_away_goals_conceded</th>\n",
       "      <th>better_perform</th>\n",
       "    </tr>\n",
       "  </thead>\n",
       "  <tbody>\n",
       "    <tr>\n",
       "      <th>0</th>\n",
       "      <td>FK Zarya Lugansk</td>\n",
       "      <td>3.0</td>\n",
       "      <td>0.0</td>\n",
       "      <td>HOME</td>\n",
       "    </tr>\n",
       "    <tr>\n",
       "      <th>1</th>\n",
       "      <td>Futbol Club Barcelona</td>\n",
       "      <td>3.0</td>\n",
       "      <td>0.0</td>\n",
       "      <td>HOME</td>\n",
       "    </tr>\n",
       "    <tr>\n",
       "      <th>2</th>\n",
       "      <td>Athlitiki Enosi Konstantinoupoleos</td>\n",
       "      <td>3.0</td>\n",
       "      <td>0.0</td>\n",
       "      <td>HOME</td>\n",
       "    </tr>\n",
       "  </tbody>\n",
       "</table>\n",
       "</div>"
      ],
      "text/plain": [
       "                       home_club_name  avg_home_goals_scored  \\\n",
       "0                    FK Zarya Lugansk                    3.0   \n",
       "1               Futbol Club Barcelona                    3.0   \n",
       "2  Athlitiki Enosi Konstantinoupoleos                    3.0   \n",
       "\n",
       "   avg_away_goals_conceded better_perform  \n",
       "0                      0.0           HOME  \n",
       "1                      0.0           HOME  \n",
       "2                      0.0           HOME  "
      ]
     },
     "metadata": {},
     "output_type": "display_data"
    },
    {
     "name": "stdout",
     "output_type": "stream",
     "text": [
      "['FK Zarya Lugansk' 'Futbol Club Barcelona'\n",
      " 'Athlitiki Enosi Konstantinoupoleos']\n"
     ]
    }
   ],
   "source": [
    "display(TEAM_HOME_PERFORMANCE.iloc[:3, :])\n",
    "print(TEAM_HOME_PERFORMANCE['home_club_name'].values[:3])"
   ]
  },
  {
   "cell_type": "code",
   "execution_count": 11,
   "id": "c3ef9de3-d4dd-465d-8738-d64d3c8395b4",
   "metadata": {},
   "outputs": [
    {
     "data": {
      "text/html": [
       "<div>\n",
       "<style scoped>\n",
       "    .dataframe tbody tr th:only-of-type {\n",
       "        vertical-align: middle;\n",
       "    }\n",
       "\n",
       "    .dataframe tbody tr th {\n",
       "        vertical-align: top;\n",
       "    }\n",
       "\n",
       "    .dataframe thead th {\n",
       "        text-align: right;\n",
       "    }\n",
       "</style>\n",
       "<table border=\"1\" class=\"dataframe\">\n",
       "  <thead>\n",
       "    <tr style=\"text-align: right;\">\n",
       "      <th></th>\n",
       "      <th>away_club_name</th>\n",
       "      <th>avg_home_goals_scored</th>\n",
       "      <th>avg_away_goals_conceded</th>\n",
       "      <th>better_perform</th>\n",
       "    </tr>\n",
       "  </thead>\n",
       "  <tbody>\n",
       "    <tr>\n",
       "      <th>0</th>\n",
       "      <td>Racing Club de Strasbourg Alsace</td>\n",
       "      <td>1.0</td>\n",
       "      <td>4.0</td>\n",
       "      <td>AWAY</td>\n",
       "    </tr>\n",
       "    <tr>\n",
       "      <th>1</th>\n",
       "      <td>FC Shakhtar Donetsk</td>\n",
       "      <td>2.0</td>\n",
       "      <td>4.0</td>\n",
       "      <td>AWAY</td>\n",
       "    </tr>\n",
       "    <tr>\n",
       "      <th>2</th>\n",
       "      <td>RFK Akhmat Grozny</td>\n",
       "      <td>0.0</td>\n",
       "      <td>3.0</td>\n",
       "      <td>AWAY</td>\n",
       "    </tr>\n",
       "  </tbody>\n",
       "</table>\n",
       "</div>"
      ],
      "text/plain": [
       "                     away_club_name  avg_home_goals_scored  \\\n",
       "0  Racing Club de Strasbourg Alsace                    1.0   \n",
       "1               FC Shakhtar Donetsk                    2.0   \n",
       "2                 RFK Akhmat Grozny                    0.0   \n",
       "\n",
       "   avg_away_goals_conceded better_perform  \n",
       "0                      4.0           AWAY  \n",
       "1                      4.0           AWAY  \n",
       "2                      3.0           AWAY  "
      ]
     },
     "metadata": {},
     "output_type": "display_data"
    },
    {
     "name": "stdout",
     "output_type": "stream",
     "text": [
      "['Racing Club de Strasbourg Alsace' 'FC Shakhtar Donetsk'\n",
      " 'RFK Akhmat Grozny']\n"
     ]
    }
   ],
   "source": [
    "display(TEAM_AWAY_PERFORMANCE.iloc[:3, :])\n",
    "print(TEAM_AWAY_PERFORMANCE['away_club_name'].values[:3])"
   ]
  },
  {
   "cell_type": "raw",
   "id": "c5489124-e3e7-46eb-bc24-5f4a896ac92d",
   "metadata": {},
   "source": [
    "-- BEST PERFORMING AT HOME CLUBS -- FK Zarya Lugansk, Futbol Club Barcelona, Athlitiki Enosi Konstantinoupoleos\n",
    "-- BEST PERFORMING AT AWAY CLUBS -- Racing Club de Strasbourg Alsace', 'FC Shakhtar Donetsk','RFK Akhmat Grozny'\n",
    "a.\t'FK ZARYA LUGANSK' ,'FUTBOL CLUB BARCELONA',  'ATHLITIKI ENOSI KONSTANTINOUPOLEOS'  PLAY BETTER AT HOME WIN AVERAGE 3 GOALS AND 0 GOALS CONCEDED TO AWAY TEAM\n",
    "b.\t'RACING CLUB DE STRASBOURG ALSACE', 'FC SHAKHTAR DONETSK', 'RFK AKHMAT GROZNY' PLAY BETTER AT AWAY WITHN AVERAGE 4 GOALS AND 1-2 GOALS CONCEDED TO HOME TEAM\n"
   ]
  },
  {
   "cell_type": "markdown",
   "id": "e02729fb-13f6-43e0-a421-89b47b5448c1",
   "metadata": {},
   "source": [
    "# 2. What are the differences in team performance based on manager names or strategies?"
   ]
  },
  {
   "cell_type": "code",
   "execution_count": 13,
   "id": "6d4142a8-93f6-416f-abb5-32a725e0c841",
   "metadata": {},
   "outputs": [
    {
     "data": {
      "image/png": "[encoded data removed]",
      "text/plain": [
       "<Figure size 640x480 with 1 Axes>"
      ]
     },
     "metadata": {},
     "output_type": "display_data"
    }
   ],
   "source": [
    "TEAM_MANAGER_PERFORMANCE.head(5).set_index('home_club_manager_name').plot(kind = \"barh\", color = {'wins': 'tab:green', 'losses': \"red\"})\n",
    "plt.gca().invert_yaxis()\n",
    "for container in plt.gca().containers:\n",
    "    plt.bar_label(container, fmt = '%.0f')\n",
    "plt.title('Top Club Managers by Club Performance')\n",
    "plt.xlabel('Wins and Losses')\n",
    "plt.ylabel('Manager Names');"
   ]
  },
  {
   "cell_type": "raw",
   "id": "b2459779-73d0-4fe2-bda7-7b6cc76dff8d",
   "metadata": {},
   "source": [
    "-- Best Managers\n",
    "-- John van den Brom -- 36 wins and 11 losses\n",
    "-- Lucien Favre -- 34 wins and 10 losses\n",
    "-- Mark Hughes -- 32 wins and 25 losses"
   ]
  },
  {
   "cell_type": "code",
   "execution_count": null,
   "id": "56c8b076-0ccf-40e0-98eb-0059bb3ec91c",
   "metadata": {},
   "outputs": [],
   "source": []
  },
  {
   "cell_type": "markdown",
   "id": "c927c9b3-0f93-46bf-b45c-4854ff8428e8",
   "metadata": {},
   "source": [
    "# 3.Which teams have the best win/loss ratio in various competitions?"
   ]
  },
  {
   "cell_type": "code",
   "execution_count": 15,
   "id": "d598857b-58dd-41c8-93bb-71297fb21371",
   "metadata": {
    "scrolled": true
   },
   "outputs": [
    {
     "name": "stdout",
     "output_type": "stream",
     "text": [
      "domestic_league\n"
     ]
    },
    {
     "data": {
      "text/html": [
       "<div>\n",
       "<style scoped>\n",
       "    .dataframe tbody tr th:only-of-type {\n",
       "        vertical-align: middle;\n",
       "    }\n",
       "\n",
       "    .dataframe tbody tr th {\n",
       "        vertical-align: top;\n",
       "    }\n",
       "\n",
       "    .dataframe thead th {\n",
       "        text-align: right;\n",
       "    }\n",
       "</style>\n",
       "<table border=\"1\" class=\"dataframe\">\n",
       "  <thead>\n",
       "    <tr style=\"text-align: right;\">\n",
       "      <th></th>\n",
       "      <th>home_club_name</th>\n",
       "      <th>wins</th>\n",
       "      <th>loses</th>\n",
       "      <th>win_loss_ratio</th>\n",
       "    </tr>\n",
       "  </thead>\n",
       "  <tbody>\n",
       "    <tr>\n",
       "      <th>0</th>\n",
       "      <td>FC Bayern Munich</td>\n",
       "      <td>23.0</td>\n",
       "      <td>1.0</td>\n",
       "      <td>23.0</td>\n",
       "    </tr>\n",
       "    <tr>\n",
       "      <th>1</th>\n",
       "      <td>Arsenal Football Club</td>\n",
       "      <td>18.0</td>\n",
       "      <td>1.0</td>\n",
       "      <td>18.0</td>\n",
       "    </tr>\n",
       "    <tr>\n",
       "      <th>2</th>\n",
       "      <td>F.C. Copenhagen</td>\n",
       "      <td>11.0</td>\n",
       "      <td>1.0</td>\n",
       "      <td>11.0</td>\n",
       "    </tr>\n",
       "    <tr>\n",
       "      <th>3</th>\n",
       "      <td>Football Club Utrecht</td>\n",
       "      <td>9.0</td>\n",
       "      <td>1.0</td>\n",
       "      <td>9.0</td>\n",
       "    </tr>\n",
       "    <tr>\n",
       "      <th>5</th>\n",
       "      <td>Football Club Nords</td>\n",
       "      <td>24.0</td>\n",
       "      <td>3.0</td>\n",
       "      <td>8.0</td>\n",
       "    </tr>\n",
       "  </tbody>\n",
       "</table>\n",
       "</div>"
      ],
      "text/plain": [
       "          home_club_name  wins  loses  win_loss_ratio\n",
       "0       FC Bayern Munich  23.0    1.0            23.0\n",
       "1  Arsenal Football Club  18.0    1.0            18.0\n",
       "2        F.C. Copenhagen  11.0    1.0            11.0\n",
       "3  Football Club Utrecht   9.0    1.0             9.0\n",
       "5    Football Club Nords  24.0    3.0             8.0"
      ]
     },
     "metadata": {},
     "output_type": "display_data"
    },
    {
     "name": "stdout",
     "output_type": "stream",
     "text": [
      "international_cup\n"
     ]
    },
    {
     "data": {
      "text/html": [
       "<div>\n",
       "<style scoped>\n",
       "    .dataframe tbody tr th:only-of-type {\n",
       "        vertical-align: middle;\n",
       "    }\n",
       "\n",
       "    .dataframe tbody tr th {\n",
       "        vertical-align: top;\n",
       "    }\n",
       "\n",
       "    .dataframe thead th {\n",
       "        text-align: right;\n",
       "    }\n",
       "</style>\n",
       "<table border=\"1\" class=\"dataframe\">\n",
       "  <thead>\n",
       "    <tr style=\"text-align: right;\">\n",
       "      <th></th>\n",
       "      <th>home_club_name</th>\n",
       "      <th>wins</th>\n",
       "      <th>loses</th>\n",
       "      <th>win_loss_ratio</th>\n",
       "    </tr>\n",
       "  </thead>\n",
       "  <tbody>\n",
       "    <tr>\n",
       "      <th>4</th>\n",
       "      <td>Tottenham Hotspur Football Club</td>\n",
       "      <td>9.0</td>\n",
       "      <td>1.0</td>\n",
       "      <td>9.0</td>\n",
       "    </tr>\n",
       "    <tr>\n",
       "      <th>25</th>\n",
       "      <td>Chelsea Football Club</td>\n",
       "      <td>3.0</td>\n",
       "      <td>1.0</td>\n",
       "      <td>3.0</td>\n",
       "    </tr>\n",
       "    <tr>\n",
       "      <th>26</th>\n",
       "      <td>Stade Rennais Football Club</td>\n",
       "      <td>3.0</td>\n",
       "      <td>1.0</td>\n",
       "      <td>3.0</td>\n",
       "    </tr>\n",
       "    <tr>\n",
       "      <th>39</th>\n",
       "      <td>Koninklijke Atletiek Associatie Gent</td>\n",
       "      <td>6.0</td>\n",
       "      <td>3.0</td>\n",
       "      <td>2.0</td>\n",
       "    </tr>\n",
       "    <tr>\n",
       "      <th>43</th>\n",
       "      <td>AFC Ajax Amsterdam</td>\n",
       "      <td>4.0</td>\n",
       "      <td>2.0</td>\n",
       "      <td>2.0</td>\n",
       "    </tr>\n",
       "  </tbody>\n",
       "</table>\n",
       "</div>"
      ],
      "text/plain": [
       "                          home_club_name  wins  loses  win_loss_ratio\n",
       "4        Tottenham Hotspur Football Club   9.0    1.0             9.0\n",
       "25                 Chelsea Football Club   3.0    1.0             3.0\n",
       "26           Stade Rennais Football Club   3.0    1.0             3.0\n",
       "39  Koninklijke Atletiek Associatie Gent   6.0    3.0             2.0\n",
       "43                    AFC Ajax Amsterdam   4.0    2.0             2.0"
      ]
     },
     "metadata": {},
     "output_type": "display_data"
    },
    {
     "name": "stdout",
     "output_type": "stream",
     "text": [
      "domestic_cup\n"
     ]
    },
    {
     "data": {
      "text/html": [
       "<div>\n",
       "<style scoped>\n",
       "    .dataframe tbody tr th:only-of-type {\n",
       "        vertical-align: middle;\n",
       "    }\n",
       "\n",
       "    .dataframe tbody tr th {\n",
       "        vertical-align: top;\n",
       "    }\n",
       "\n",
       "    .dataframe thead th {\n",
       "        text-align: right;\n",
       "    }\n",
       "</style>\n",
       "<table border=\"1\" class=\"dataframe\">\n",
       "  <thead>\n",
       "    <tr style=\"text-align: right;\">\n",
       "      <th></th>\n",
       "      <th>home_club_name</th>\n",
       "      <th>wins</th>\n",
       "      <th>loses</th>\n",
       "      <th>win_loss_ratio</th>\n",
       "    </tr>\n",
       "  </thead>\n",
       "  <tbody>\n",
       "    <tr>\n",
       "      <th>20</th>\n",
       "      <td>Stichting Betaald Voetbal Vitesse Arnhem</td>\n",
       "      <td>3.0</td>\n",
       "      <td>1.0</td>\n",
       "      <td>3.0</td>\n",
       "    </tr>\n",
       "    <tr>\n",
       "      <th>21</th>\n",
       "      <td>FC Bayern Munich</td>\n",
       "      <td>3.0</td>\n",
       "      <td>1.0</td>\n",
       "      <td>3.0</td>\n",
       "    </tr>\n",
       "    <tr>\n",
       "      <th>38</th>\n",
       "      <td>Associazione Sportiva Roma</td>\n",
       "      <td>2.0</td>\n",
       "      <td>1.0</td>\n",
       "      <td>2.0</td>\n",
       "    </tr>\n",
       "    <tr>\n",
       "      <th>41</th>\n",
       "      <td>Eintracht Frankfurt Fuayball AG</td>\n",
       "      <td>4.0</td>\n",
       "      <td>2.0</td>\n",
       "      <td>2.0</td>\n",
       "    </tr>\n",
       "    <tr>\n",
       "      <th>42</th>\n",
       "      <td>Borussia Dortmund</td>\n",
       "      <td>2.0</td>\n",
       "      <td>1.0</td>\n",
       "      <td>2.0</td>\n",
       "    </tr>\n",
       "  </tbody>\n",
       "</table>\n",
       "</div>"
      ],
      "text/plain": [
       "                              home_club_name  wins  loses  win_loss_ratio\n",
       "20  Stichting Betaald Voetbal Vitesse Arnhem   3.0    1.0             3.0\n",
       "21                          FC Bayern Munich   3.0    1.0             3.0\n",
       "38                Associazione Sportiva Roma   2.0    1.0             2.0\n",
       "41           Eintracht Frankfurt Fuayball AG   4.0    2.0             2.0\n",
       "42                         Borussia Dortmund   2.0    1.0             2.0"
      ]
     },
     "metadata": {},
     "output_type": "display_data"
    }
   ],
   "source": [
    "competitions_dict = {}\n",
    "for i in TEAM_WIN_RATIO['competition_type'].unique()[:-1]:\n",
    "    cond = TEAM_WIN_RATIO['competition_type'] == i\n",
    "    print(i)\n",
    "    create_df = TEAM_WIN_RATIO[cond][['home_club_name','wins', 'loses', 'win_loss_ratio']].head(5)\n",
    "    competitions_dict[i] = create_df\n",
    "    display(create_df)"
   ]
  },
  {
   "cell_type": "code",
   "execution_count": 16,
   "id": "3996bfb4-ee93-4091-9fc6-7a7f29162ea7",
   "metadata": {},
   "outputs": [
    {
     "data": {
      "image/png": "[encoded data removed]",
      "text/plain": [
       "<Figure size 2000x600 with 3 Axes>"
      ]
     },
     "metadata": {},
     "output_type": "display_data"
    }
   ],
   "source": [
    "fig, ax = plt.subplots(1, 3, figsize = (20, 6))\n",
    "ax = ax.flatten()\n",
    "\n",
    "colors = ['tab:red', 'tab:blue', 'tab:green']\n",
    "for index, (labels, frame) in enumerate(competitions_dict.items()):\n",
    "    frame.plot(kind = 'barh', x = 'home_club_name', y = 'win_loss_ratio', ax = ax[index], color = colors[index], legend = False)\n",
    "    ax[index].invert_yaxis()\n",
    "    for container in ax[index].containers:\n",
    "        ax[index].bar_label(container, fmt = '%.2f')\n",
    "    ax[index].set_title(labels)\n",
    "    ax[index].set_xlabel('Win-Lose Ratio') \n",
    "plt.tight_layout(rect = [0, 0, 1, 1]);"
   ]
  },
  {
   "cell_type": "raw",
   "id": "250215f7-2d40-45fc-95a9-22ec4d299d03",
   "metadata": {},
   "source": [
    "-- High Win-Loss ratio \n",
    "-- domestic_league\n",
    "-- FC Bayern Munich, 23 WINS, 1 LOSSES, 23 WIN LOSS RATIO\n",
    "-- Arsenal Football Club, 18 WINS, 1 LOSSES, \t\n",
    "-- F.C. Copenhagen,\t11 WINS, \t1 LOSSES, \t\n",
    "\n",
    "-- international_cup\n",
    "-- Tottenham Hotspur Football Club, 9:1 win ratio\n",
    "-- Chealsea Football Club, 3:1 win ratio\n",
    "-- Stade Rennais Football Club, 3:1 win ratio\n",
    "\n",
    "-- domestic cup\n",
    "-- Stichting Betaald Voetbal Vitesse Arnhem, 3 wins,1\t3:1\n",
    "-- FC Bayern Munich,\t3 wins,\t1 losses, 3:1\n",
    "-- Eintracht Frankfurt Fuayball AG,\t4 wins, 2 losses, 2:1"
   ]
  },
  {
   "cell_type": "markdown",
   "id": "8f5867e8-0c28-4325-aa27-e84493c979fe",
   "metadata": {},
   "source": [
    "# 4. How does the position of the clubs affect match outcomes?"
   ]
  },
  {
   "cell_type": "code",
   "execution_count": 18,
   "id": "0eed262d-ae36-40f6-adda-6b38407e669a",
   "metadata": {},
   "outputs": [
    {
     "data": {
      "text/html": [
       "<style type=\"text/css\">\n",
       "#T_f802f_row0_col0, #T_f802f_row1_col1, #T_f802f_row2_col2 {\n",
       "  background-color: #b40426;\n",
       "  color: #f1f1f1;\n",
       "}\n",
       "#T_f802f_row0_col1, #T_f802f_row0_col2, #T_f802f_row1_col0 {\n",
       "  background-color: #3b4cc0;\n",
       "  color: #f1f1f1;\n",
       "}\n",
       "#T_f802f_row1_col2 {\n",
       "  background-color: #b7cff9;\n",
       "  color: #000000;\n",
       "}\n",
       "#T_f802f_row2_col0 {\n",
       "  background-color: #485fd1;\n",
       "  color: #f1f1f1;\n",
       "}\n",
       "#T_f802f_row2_col1 {\n",
       "  background-color: #c1d4f4;\n",
       "  color: #000000;\n",
       "}\n",
       "</style>\n",
       "<table id=\"T_f802f\">\n",
       "  <thead>\n",
       "    <tr>\n",
       "      <th class=\"blank level0\" >&nbsp;</th>\n",
       "      <th id=\"T_f802f_level0_col0\" class=\"col_heading level0 col0\" >home_club_position</th>\n",
       "      <th id=\"T_f802f_level0_col1\" class=\"col_heading level0 col1\" >home_away_win_ratio</th>\n",
       "      <th id=\"T_f802f_level0_col2\" class=\"col_heading level0 col2\" >TOTAL_WINS</th>\n",
       "    </tr>\n",
       "  </thead>\n",
       "  <tbody>\n",
       "    <tr>\n",
       "      <th id=\"T_f802f_level0_row0\" class=\"row_heading level0 row0\" >home_club_position</th>\n",
       "      <td id=\"T_f802f_row0_col0\" class=\"data row0 col0\" >1.000000</td>\n",
       "      <td id=\"T_f802f_row0_col1\" class=\"data row0 col1\" >-0.593508</td>\n",
       "      <td id=\"T_f802f_row0_col2\" class=\"data row0 col2\" >-0.520320</td>\n",
       "    </tr>\n",
       "    <tr>\n",
       "      <th id=\"T_f802f_level0_row1\" class=\"row_heading level0 row1\" >home_away_win_ratio</th>\n",
       "      <td id=\"T_f802f_row1_col0\" class=\"data row1 col0\" >-0.593508</td>\n",
       "      <td id=\"T_f802f_row1_col1\" class=\"data row1 col1\" >1.000000</td>\n",
       "      <td id=\"T_f802f_row1_col2\" class=\"data row1 col2\" >0.048801</td>\n",
       "    </tr>\n",
       "    <tr>\n",
       "      <th id=\"T_f802f_level0_row2\" class=\"row_heading level0 row2\" >TOTAL_WINS</th>\n",
       "      <td id=\"T_f802f_row2_col0\" class=\"data row2 col0\" >-0.520320</td>\n",
       "      <td id=\"T_f802f_row2_col1\" class=\"data row2 col1\" >0.048801</td>\n",
       "      <td id=\"T_f802f_row2_col2\" class=\"data row2 col2\" >1.000000</td>\n",
       "    </tr>\n",
       "  </tbody>\n",
       "</table>\n"
      ],
      "text/plain": [
       "<pandas.io.formats.style.Styler at 0x1cf5f4f0e50>"
      ]
     },
     "metadata": {},
     "output_type": "display_data"
    },
    {
     "data": {
      "image/png": "[encoded data removed]",
      "text/plain": [
       "<Figure size 640x480 with 1 Axes>"
      ]
     },
     "metadata": {},
     "output_type": "display_data"
    }
   ],
   "source": [
    "display(TEAM_POSITION_OUTCOME.drop(columns = ['home_wins','away_wins'], axis = 1).corr().style.background_gradient(cmap = 'coolwarm'))\n",
    "\n",
    "TEAM_POSITION_OUTCOME.plot(kind = 'scatter', x = 'home_club_position', y = 'home_away_win_ratio')\n",
    "sns.regplot(x='home_club_position', y='home_away_win_ratio', data=TEAM_POSITION_OUTCOME)\n",
    "plt.title('Correlation Between Home-Away Ratio and Ranking of the Teams');"
   ]
  },
  {
   "cell_type": "raw",
   "id": "9dfcd4b6-6796-4a7d-978c-5fe42f21ee64",
   "metadata": {},
   "source": [
    "-- WINNING ALL MATCHES DO NOT NECESSARILY MEAN RANKING HIGH\n",
    "-- TEAMS NEED TO FOCUS MORE ON MAINTAINING THEIER HOME_AWAY WIN RATIO \n",
    "-- TEAMS NEED TO WIN MORE MORE MATCHES AT HOME GROUNDS THEN AT AWAY GROUNDS TO RANK UP THE POSITION\n",
    "\n",
    "a.\tTHE TEAMS AT HIGHER RANKINGS ARE SEEN TO HAVE HIGHER WINS LOSS RATIO\n",
    "b.\tHIGH NEGATIVE CORRELATION BETWEEN CLUB POSITION AND WIN-LOSS RATIO IS SEEN r = -0.59\n",
    "c.\tTEAMS NEED TO MAINTAIN THE WIN-LOSS RATIO TO RANK HIGHER\n"
   ]
  },
  {
   "cell_type": "markdown",
   "id": "aa427c17-73c6-4c18-aa22-181adf677c0b",
   "metadata": {},
   "source": [
    "# 5. How do teams’ performances vary across different seasons and competitions?    --(IN TABLEAU FOR DEEPER ANALYSIS)"
   ]
  },
  {
   "cell_type": "markdown",
   "id": "c6af9689-6f83-4a7c-b66f-41d069e187ea",
   "metadata": {},
   "source": [
    "# Hypothesis Testing"
   ]
  },
  {
   "cell_type": "raw",
   "id": "f6005e00-c17c-48c1-90b2-0edc5933dbe4",
   "metadata": {},
   "source": [
    "Null Hypothesis (H₀): The home team does not score significantly more goals than the away team.\n",
    "Alternative Hypothesis (H₁): The home team scores significantly more goals than the away team."
   ]
  },
  {
   "cell_type": "code",
   "execution_count": 46,
   "id": "0e7d0f49-7102-4025-b79c-7918d872ad58",
   "metadata": {},
   "outputs": [
    {
     "name": "stdout",
     "output_type": "stream",
     "text": [
      "Z-Statistic: 9.776740987638687\n",
      "P-Value: 0.0\n",
      "Z-Critical Value: 1.959963984540054\n",
      "Reject the null hypothesis: Home teams score significantly more goals than away teams.\n"
     ]
    }
   ],
   "source": [
    "# Extract data\n",
    "home_goals = games['home_club_goals']\n",
    "away_goals = games['away_club_goals']\n",
    "\n",
    "# Calculate means, variances, and sample sizes\n",
    "mean_home = np.mean(home_goals)\n",
    "mean_away = np.mean(away_goals)\n",
    "\n",
    "var_home = np.var(home_goals, ddof=1)  \n",
    "var_away = np.var(away_goals, ddof=1)\n",
    "\n",
    "n_home = len(home_goals)\n",
    "n_away = len(away_goals)\n",
    "\n",
    "# Set the significance level (alpha)\n",
    "alpha = 0.05\n",
    "\n",
    "# Calculate the Z-critical value for a two-tailed test (95% confidence)\n",
    "z_critical = stats.norm.ppf(1 - alpha/2)\n",
    "\n",
    "# Calculate the Z-score using the Z-test formula\n",
    "z_stat = (mean_home - mean_away) / np.sqrt((var_home / n_home) + (var_away / n_away))\n",
    "\n",
    "# Calculate the two-tailed p-value from the Z-statistic\n",
    "p_value = 2 * (1 - stats.norm.cdf(abs(z_stat)))  # Two-tailed p-value\n",
    "\n",
    "# Output the results\n",
    "print(f\"Z-Statistic: {z_stat}\")\n",
    "print(f\"P-Value: {p_value}\")\n",
    "print(f\"Z-Critical Value: {z_critical}\")\n",
    "\n",
    "\n",
    "# Check the significance level at 95 confidence interval\n",
    "alpha = 0.05\n",
    "if p_value < alpha:\n",
    "    print(\"Reject the null hypothesis: Home teams score significantly more goals than away teams.\")\n",
    "else:\n",
    "    print(\"Fail to reject the null hypothesis: No significant difference between home and away goals.\")"
   ]
  },
  {
   "cell_type": "raw",
   "id": "2848a06a-3a94-48ba-91e8-5bf2720b933a",
   "metadata": {
    "jupyter": {
     "source_hidden": true
    }
   },
   "source": [
    "# t-test\n",
    "from scipy import stats\n",
    "# Extract relevant columns\n",
    "home_goals = games['home_club_goals']\n",
    "away_goals = games['away_club_goals']\n",
    "\n",
    "# Perform a t-test\n",
    "t_stat, p_value = stats.ttest_rel(home_goals, away_goals)\n",
    "\n",
    "# Set the significance level (alpha) and calculate degrees of freedom (df)\n",
    "alpha = 0.05\n",
    "n_home = len(home_goals)\n",
    "n_away = len(away_goals)\n",
    "df = n_home + n_away - 2  # Degrees of freedom \n",
    "\n",
    "# Calculate the T-critical value for a two-tailed test (95% confidence)\n",
    "t_critical = stats.t.ppf(1 - alpha/2, df)\n",
    "\n",
    "# Step 3: Output the results\n",
    "print(f\"T-Statistic: {t_stat}\")\n",
    "print(f\"P-Value: {p_value}\")\n",
    "print(f\"T-Critical Value (df={df}): {t_critical}\")\n",
    "\n",
    "# Check the significance level (usually 0.05)\n",
    "alpha = 0.05\n",
    "if p_value < alpha:\n",
    "    print(\"Reject the null hypothesis: Home teams score significantly more goals than away teams.\")\n",
    "else:\n",
    "    print(\"Fail to reject the null hypothesis: There is no significant difference between home and away goals.\")"
   ]
  },
  {
   "cell_type": "markdown",
   "id": "1f850848-93d5-4f5e-b97a-b5bfa700b458",
   "metadata": {},
   "source": [
    "# SAVING FILES TO EXCEL FOR POWERPOINT PRESENTATIONS"
   ]
  },
  {
   "cell_type": "raw",
   "id": "baed4543-98ad-47d0-b0fd-868d453c8742",
   "metadata": {
    "jupyter": {
     "source_hidden": true
    },
    "scrolled": true
   },
   "source": [
    "~~ DONT DELETE THIS \n",
    "# Define the file path\n",
    "workbook_path = r'C:\\Users\\Mihir\\8_CAPSTONE PROJECT\\excel_files_for_ppt\\1_performance_analysis.xlsx'\n",
    "\n",
    "# Create DataFrame from the player_prob dictionary\n",
    "player_prob_df = pd.DataFrame.from_dict(player_prob, orient='index', columns=['Probability_of_Team_Winning'])\n",
    "player_prob_df.index.name = 'Player'  # Set the index name for clarity\n",
    "\n",
    "sub_position_df = pd.DataFrame.from_dict(sub_position_dict, orient = 'index', columns = ['Probability_Scoring_Goal'])\n",
    "sub_position_df.index.name = 'Sub_Position'\n",
    "\n",
    "# Proceed with the ExcelWriter if the file exists\n",
    "writer = pd.ExcelWriter(workbook_path, engine='openpyxl', mode='a', if_sheet_exists='replace')\n",
    "\n",
    "# Save the DataFrame to a new sheet\n",
    "PERFORMANCE_PLAYER_CONTRIBUTION.to_excel(writer, sheet_name=\"PERFORMANCE_PLAYER_CONTRIBUTION\", index=False)\n",
    "\n",
    "PERFORMANCE_CARDS_PLAYER.to_excel(writer, sheet_name=\"PERFORMANCE_CARDS_PLAYER\", index=False)\n",
    "\n",
    "top_players.to_excel(writer, sheet_name=\"top_players\", index=False)\n",
    "\n",
    "# player_prob = pd.DataFrame.from_dict(player_prob, orient = 'index') # , index = player_prob.keys()\n",
    "player_prob_df.to_excel(writer, sheet_name=\"player_prob\", index=True)\n",
    "\n",
    "top_10_teams_home.reset_index().to_excel(writer, sheet_name=\"top_10_teams_home\", index=False)\n",
    "\n",
    "# sub_position = pd.DataFrame.from_dict(sub_position_dict, orient = 'index') # , index = sub_position_dict.keys()\n",
    "sub_position_df.to_excel(writer, sheet_name=\"sub_position\", index=True)\n",
    "writer.close()"
   ]
  },
  {
   "cell_type": "code",
   "execution_count": null,
   "id": "d51616c9-d73d-43c8-a609-493a1fff98e0",
   "metadata": {},
   "outputs": [],
   "source": []
  },
  {
   "cell_type": "code",
   "execution_count": 22,
   "id": "3b337f38-d9f7-4f1c-8c96-82d62c1231e5",
   "metadata": {},
   "outputs": [
    {
     "name": "stdout",
     "output_type": "stream",
     "text": [
      "DataFrames successfully written to Excel.\n"
     ]
    }
   ],
   "source": [
    "# Define the file path\n",
    "workbook_path = r'C:\\Users\\Mihir\\8_CAPSTONE PROJECT\\excel_files_for_ppt\\3_Team Comparison.xlsx'\n",
    "\n",
    "# Create DataFrame from the player_prob dictionary\n",
    "try:\n",
    "    # Proceed with the ExcelWriter if the file exists\n",
    "    with pd.ExcelWriter(workbook_path, engine='openpyxl', mode='a', if_sheet_exists='replace') as writer:\n",
    "        # Save the DataFrame to a new sheet\n",
    "        TEAM_HOME_PERFORMANCE.to_excel(writer, sheet_name=\"TEAM_HOME_PERFORMANCE\", index=False)\n",
    "        TEAM_AWAY_PERFORMANCE.to_excel(writer, sheet_name=\"TEAM_AWAY_PERFORMANCE\", index=False)\n",
    "        TEAM_MANAGER_PERFORMANCE.to_excel(writer, sheet_name=\"TEAM_MANAGER_PERFORMANCE\", index=False)\n",
    "        TEAM_WIN_RATIO.to_excel(writer, sheet_name=\"TEAM_WIN_RATIO\", index=False)\n",
    "        TEAM_POSITION_OUTCOME.to_excel(writer, sheet_name=\"TEAM_POSITION_OUTCOME\", index=False)\n",
    "        TEAM_SEASON_PERFORMANCE.to_excel(writer, sheet_name=\"TEAM_SEASON_PERFORMANCE\", index=False)\n",
    "\n",
    "    print(\"DataFrames successfully written to Excel.\")\n",
    "\n",
    "except Exception as e:\n",
    "    print(f\"An error occurred while writing to Excel: {e}\")"
   ]
  }
 ],
 "metadata": {
  "kernelspec": {
   "display_name": "Python 3 (ipykernel)",
   "language": "python",
   "name": "python3"
  },
  "language_info": {
   "codemirror_mode": {
    "name": "ipython",
    "version": 3
   },
   "file_extension": ".py",
   "mimetype": "text/x-python",
   "name": "python",
   "nbconvert_exporter": "python",
   "pygments_lexer": "ipython3",
   "version": "3.11.5"
  }
 },
 "nbformat": 4,
 "nbformat_minor": 5
}
