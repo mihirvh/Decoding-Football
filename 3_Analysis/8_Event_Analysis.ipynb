{
 "cells": [
  {
   "cell_type": "markdown",
   "id": "b5114b02-39a6-46c5-81e8-02b8258cde6f",
   "metadata": {},
   "source": [
    "# EVENT ANALYSIS"
   ]
  },
  {
   "cell_type": "code",
   "execution_count": 2,
   "id": "e0191638-a58d-44c1-95e3-7e6d44721169",
   "metadata": {},
   "outputs": [],
   "source": [
    "# Importing Required Libraries\n",
    "import pandas as pd\n",
    "import numpy as np\n",
    "import matplotlib.pyplot as plt\n",
    "import seaborn as sns\n",
    "import warnings\n",
    "warnings.filterwarnings('ignore')"
   ]
  },
  {
   "cell_type": "code",
   "execution_count": 3,
   "id": "cbc7c735-3faf-42d8-ae3a-64daa76a2f17",
   "metadata": {},
   "outputs": [
    {
     "data": {
      "text/plain": [
       "'C:\\\\Users\\\\Mihir\\\\8_CAPSTONE PROJECT\\\\S1_Data_Preprocessing\\\\1_Preprocessing_Data_&_EDA_LEVEL_0\\\\\\\\'"
      ]
     },
     "execution_count": 3,
     "metadata": {},
     "output_type": "execute_result"
    }
   ],
   "source": [
    "# Setting the path to access the data\n",
    "path = r\"C:\\Users\\Mihir\\8_CAPSTONE PROJECT\\S1_Data_Preprocessing\\1_Preprocessing_Data_&_EDA_LEVEL_0\\\\\"\n",
    "path"
   ]
  },
  {
   "cell_type": "code",
   "execution_count": 4,
   "id": "2020c064-c280-48e6-adaf-2200b5441bdd",
   "metadata": {},
   "outputs": [],
   "source": [
    "# reading required csv files\n",
    "appearances = pd.read_csv(path + \"appearances_df_no_win.csv\")\n",
    "players = pd.read_csv(path + \"players_df_winsorised.csv\")\n",
    "games = pd.read_csv(path + \"games_df_winsorised.csv\")\n",
    "game_events = pd.read_csv(path + \"game_events_df_no_win.csv\")\n",
    "test = pd.read_csv(path + \"test data.csv\")"
   ]
  },
  {
   "cell_type": "markdown",
   "id": "6f117344-e422-4b00-b181-18de95ae7616",
   "metadata": {},
   "source": [
    "# HYPOTHESIS TESTING\n",
    "## Goals Scored in the Last 15 Minutes of a Game Are More Likely to Impact the Final Result (Win/Loss)"
   ]
  },
  {
   "cell_type": "raw",
   "id": "9f2982c6-697f-4dd2-ac8c-e7ee1e391865",
   "metadata": {},
   "source": [
    "Null Hypothesis (H0): Goals scored in the last 15 minutes of a game do not significantly impact the final match result (win/loss).\n",
    "\n",
    "Alternative Hypothesis (H1): Goals scored in the last 15 minutes of a game significantly impact the final match result (win/loss)."
   ]
  },
  {
   "cell_type": "code",
   "execution_count": 6,
   "id": "9e8a1f29-afd2-4f70-86da-a854ab75d122",
   "metadata": {},
   "outputs": [],
   "source": [
    "# Getting Data for Goals scored after 75 minutes in Game\n",
    "last_15_min_goals = game_events[(game_events['type'] == 'Goals') & (game_events['minute'] > 75)]\n",
    "\n",
    "# Creating Results column for Wins and Losses and Ties\n",
    "games['result'] = np.where(games['home_club_goals'] > games['away_club_goals'], 1, \n",
    "                           np.where(games['home_club_goals'] < games['away_club_goals'], 0, -1))  # 1 = Win, 0 = Loss, -1 = Tie\n",
    "\n",
    "# Merge the filtered goals data with games data on game_id\n",
    "goals_with_results = last_15_min_goals.merge(games, how='inner', on='game_id')\n",
    "\n",
    "# Add a column to identify games with late goals and without late goals\n",
    "games['has_late_goal'] = np.where(games['game_id'].isin(goals_with_results['game_id']), 1, 0)\n",
    "\n",
    "# Separate into two groups: games with late goals and games without late goals\n",
    "late_goals_group = games[games['has_late_goal'] == 1]['result']\n",
    "no_late_goals_group = games[games['has_late_goal'] == 0]['result']"
   ]
  },
  {
   "cell_type": "code",
   "execution_count": 8,
   "id": "da67954e-ae2a-476b-9749-cb5b7521d3a5",
   "metadata": {},
   "outputs": [
    {
     "name": "stdout",
     "output_type": "stream",
     "text": [
      "Z-statistic: 1.3154554048685592\n",
      "Z-critical value (95% confidence, two-tailed): 1.959963984540054\n",
      "P-value: 0.18835689549586832\n",
      "\n",
      "Fail to reject the null hypothesis: Goals scored in the last 15 minutes do not significantly impact the match outcome.\n"
     ]
    }
   ],
   "source": [
    "## USING Z TEST\n",
    "# Calculate means and standard deviations of both groups\n",
    "mean_late_goals = late_goals_group.mean()\n",
    "mean_no_late_goals = no_late_goals_group.mean()\n",
    "\n",
    "std_late_goals = late_goals_group.std()\n",
    "std_no_late_goals = no_late_goals_group.std()\n",
    "\n",
    "n1 = len(late_goals_group)\n",
    "n2 = len(no_late_goals_group)\n",
    "\n",
    "# Calculate the Z-statistic\n",
    "from scipy import stats\n",
    "z_stat = (mean_late_goals - mean_no_late_goals) / np.sqrt((std_late_goals**2 / n1) + (std_no_late_goals**2 / n2))\n",
    "\n",
    "# Find the Z-critical value for a 95% confidence level (two-tailed)\n",
    "z_critical = stats.norm.ppf(1 - 0.05 / 2)\n",
    "\n",
    "# Calculate the p-value\n",
    "p_value = 2 * (1 - stats.norm.cdf(abs(z_stat)))  # Two-tailed test\n",
    "\n",
    "# 8. Print results\n",
    "print(f\"Z-statistic: {z_stat}\")\n",
    "print(f\"Z-critical value (95% confidence, two-tailed): {z_critical}\")\n",
    "print(f\"P-value: {p_value}\")\n",
    "print()\n",
    "# Interpretation of results\n",
    "if p_value < 0.05:# abs(z_stat) > z_critical:\n",
    "    print(\"Reject the null hypothesis: Goals scored in the last 15 minutes significantly impact the match outcome.\")\n",
    "else:\n",
    "    print(\"Fail to reject the null hypothesis: Goals scored in the last 15 minutes do not significantly impact the match outcome.\")"
   ]
  },
  {
   "cell_type": "raw",
   "id": "aa5437d2-0de5-4482-8254-cfe50a053e51",
   "metadata": {},
   "source": [
    "i.\tWITH 95 % CONFIDENCE WE CAN INFER THAT THE GOALS SCORED IN THE LAST 15 MINUTES DO NOT SIGNIFICANTLY IMPACT MATCH OUTCOMES\n",
    "ii.\tZ-TEST IS USED HERE SINCE  POPULATION STANDARD DEVIATION IS KNOWN AND SAMPLE SIZE IS GREATER THAN 30"
   ]
  },
  {
   "cell_type": "code",
   "execution_count": 10,
   "id": "dfea80e7-9ba9-495d-8e11-9d6163af1c84",
   "metadata": {},
   "outputs": [
    {
     "name": "stdout",
     "output_type": "stream",
     "text": [
      "T-statistic: 1.318336281688606\n",
      "T-Critical: 1.9606906029345763\n",
      "P-value: 0.18748354618344487\n",
      "\n",
      "Fail to reject the null hypothesis: Goals scored in the last 15 minutes do not significantly impact the match outcome.\n"
     ]
    }
   ],
   "source": [
    "## USING T-TEST\n",
    "# Calculate degrees of freedom\n",
    "n1 = len(late_goals_group)\n",
    "n2 = len(no_late_goals_group)\n",
    "df = n1 + n2 - 2\n",
    "\n",
    "# Find the t-critical value for a two-tailed test with 95% confidence level (alpha = 0.05)\n",
    "from scipy import stats\n",
    "alpha = 0.05\n",
    "t_critical = stats.t.ppf(1 - alpha/2, df)\n",
    "\n",
    "# Conduct an independent t-test\n",
    "t_stat, p_value = stats.ttest_ind(late_goals_group, no_late_goals_group)\n",
    "\n",
    "\n",
    "# Print results\n",
    "print(f\"T-statistic: {t_stat}\")\n",
    "print(f\"T-Critical: {t_critical}\")\n",
    "print(f\"P-value: {p_value}\")\n",
    "print()\n",
    "# Interpretation of results\n",
    "if p_value < 0.05:\n",
    "    print(\"Reject the null hypothesis: Goals scored in the last 15 minutes significantly impact the match outcome.\")\n",
    "else:\n",
    "    print(\"Fail to reject the null hypothesis: Goals scored in the last 15 minutes do not significantly impact the match outcome.\")"
   ]
  }
 ],
 "metadata": {
  "kernelspec": {
   "display_name": "Python 3 (ipykernel)",
   "language": "python",
   "name": "python3"
  },
  "language_info": {
   "codemirror_mode": {
    "name": "ipython",
    "version": 3
   },
   "file_extension": ".py",
   "mimetype": "text/x-python",
   "name": "python",
   "nbconvert_exporter": "python",
   "pygments_lexer": "ipython3",
   "version": "3.11.5"
  }
 },
 "nbformat": 4,
 "nbformat_minor": 5
}
