{
 "cells": [
  {
   "cell_type": "markdown",
   "id": "153d0827-6a3c-4121-bc0b-824b4a9e578f",
   "metadata": {},
   "source": [
    "# ATTENDANCE AND STADIUM ANALYSIS"
   ]
  },
  {
   "cell_type": "code",
   "execution_count": 2,
   "id": "94562263-c2ef-4463-b160-96aab8dbfa9f",
   "metadata": {},
   "outputs": [],
   "source": [
    "# Importing Required Libraries\n",
    "import pandas as pd\n",
    "import numpy as np\n",
    "import matplotlib.pyplot as plt\n",
    "import seaborn as sns\n",
    "import warnings\n",
    "warnings.filterwarnings('ignore')"
   ]
  },
  {
   "cell_type": "code",
   "execution_count": 3,
   "id": "060970d5-99d1-4ad0-a2ab-d1639afca4bc",
   "metadata": {},
   "outputs": [
    {
     "data": {
      "text/plain": [
       "'C:\\\\Users\\\\Mihir\\\\8_CAPSTONE PROJECT\\\\S1_Data_Preprocessing\\\\1_Preprocessing_Data_&_EDA_LEVEL_0\\\\\\\\'"
      ]
     },
     "execution_count": 3,
     "metadata": {},
     "output_type": "execute_result"
    }
   ],
   "source": [
    "# Setting the path to access the data\n",
    "path = r\"C:\\Users\\Mihir\\8_CAPSTONE PROJECT\\S1_Data_Preprocessing\\1_Preprocessing_Data_&_EDA_LEVEL_0\\\\\"\n",
    "path"
   ]
  },
  {
   "cell_type": "code",
   "execution_count": 4,
   "id": "93fc5815-b775-440a-91d4-33e586daaac4",
   "metadata": {},
   "outputs": [],
   "source": [
    "# reading required csv files\n",
    "appearances = pd.read_csv(path + \"appearances_df_no_win.csv\")\n",
    "players = pd.read_csv(path + \"players_df_winsorised.csv\")\n",
    "games = pd.read_csv(path + \"games_df_winsorised.csv\")\n",
    "game_events = pd.read_csv(path + \"game_events_df_no_win.csv\")\n",
    "test = pd.read_csv(path + \"test data.csv\")"
   ]
  },
  {
   "cell_type": "raw",
   "id": "692080e6-541c-44fd-a659-8314e1ab6d0c",
   "metadata": {
    "scrolled": true
   },
   "source": [
    "with pd.option_context('display.max_rows', None, 'display.max_columns', 5):\n",
    "    display(games['round'].value_counts())"
   ]
  },
  {
   "cell_type": "code",
   "execution_count": 5,
   "id": "730db822-5853-48dc-b618-e2c10d43a3cd",
   "metadata": {},
   "outputs": [
    {
     "name": "stdout",
     "output_type": "stream",
     "text": [
      "Connection Established- to Database:  <mysql.connector.connection_cext.CMySQLConnection object at 0x0000026DFFD6A690>\n",
      "Connection to Retrieve data:  CMySQLCursor: (Nothing executed yet)\n"
     ]
    }
   ],
   "source": [
    "import mysql.connector as sql\n",
    "\n",
    "host = 'localhost'\n",
    "user = 'root'\n",
    "password = '1234'\n",
    "database = 'football_analysis_eda'\n",
    "\n",
    "db = sql.connect(host = host, user = user, password = password, \n",
    "           database = database)\n",
    "print(\"Connection Established- to Database: \", db)\n",
    "\n",
    "mycursor = db.cursor()\n",
    "print(\"Connection to Retrieve data: \", mycursor)"
   ]
  },
  {
   "cell_type": "code",
   "execution_count": 6,
   "id": "408c9667-c7a3-4bc1-85ba-3da520988b34",
   "metadata": {},
   "outputs": [],
   "source": [
    "# Retrieving Data From MySQL Server\n",
    "## By Creating a View\n",
    "query = '''SELECT * FROM ATTENDANCE_STADIUM;'''\n",
    "ATTENDANCE_STADIUM = pd.read_sql_query(query,db)\n",
    "\n",
    "query2 = '''SELECT * FROM ATTENDANCE_GOALS_CORR;'''\n",
    "ATTENDANCE_GOALS_CORR = pd.read_sql_query(query2,db)\n",
    "\n",
    "query3 = '''SELECT * FROM ATTENDANCE_WINS_CORR;'''\n",
    "ATTENDANCE_WINS_CORR = pd.read_sql_query(query3,db)\n",
    "\n",
    "# query4 = '''SELECT * FROM STADIUM_OUTCOME_INFLUENCE;'''\n",
    "# STADIUM_OUTCOME_INFLUENCE = pd.read_sql_query(query4,db)\n",
    "\n",
    "query5 = '''SELECT * FROM STADIUM_ATTEND_OUTCOME_INFLUENCE;'''\n",
    "STADIUM_ATTEND_OUTCOME_INFLUENCE = pd.read_sql_query(query5,db)\n",
    "\n",
    "query6 = '''SELECT * FROM ATTENDANCE_MAX_MIN_ACROSS_SEASONS_COMPETITIONS;'''\n",
    "ATTENDANCE_MAX_MIN_ACROSS_SEASONS_COMPETITIONS = pd.read_sql_query(query6,db)\n",
    "\n",
    "query7 = '''SELECT * FROM ATTENDANCE_HOME_CLUBWISE;'''\n",
    "ATTENDANCE_HOME_CLUBWISE = pd.read_sql_query(query7,db)\n",
    "\n",
    "query8 = '''SELECT * FROM ATTENDANCE_DAY_MATCH_ROUND_CORR;'''\n",
    "ATTENDANCE_DAY_MATCH_ROUND_CORR = pd.read_sql_query(query8,db)\n",
    "\n",
    "query9 = '''SELECT * FROM ATTENDANCE_FAN_ENGAGEMENT_RIVALS;'''\n",
    "ATTENDANCE_FAN_ENGAGEMENT_RIVALS = pd.read_sql_query(query9,db)\n",
    "\n",
    "db.close()"
   ]
  },
  {
   "cell_type": "raw",
   "id": "5158dc55-28db-49ea-9a05-4bfd49c678da",
   "metadata": {},
   "source": [
    "7 QUESTIONS "
   ]
  },
  {
   "cell_type": "markdown",
   "id": "e8c27015-d81a-447e-8235-2468a87a6b14",
   "metadata": {},
   "source": [
    "# USING KNN CLASSIFICATION\n",
    "##  Can we classify stadiums based on historical attendance patterns?\n",
    "### Business Question: Can we predict which stadiums based on historical attendance patterns ?\n",
    "### Features: stadium, attendance."
   ]
  },
  {
   "cell_type": "code",
   "execution_count": 187,
   "id": "f2cb8eac-80b5-487d-8d7f-156c6bacd3ae",
   "metadata": {},
   "outputs": [
    {
     "name": "stdout",
     "output_type": "stream",
     "text": [
      "Quartile 1:  14550.5\n",
      "Quartile 3:  42100.0\n",
      "Median:  26788.0\n",
      "Mean:  29293.352815177477\n",
      "IQR:  27549.5\n",
      "MAX:  81365.0\n"
     ]
    },
    {
     "data": {
      "image/png": "[encoded data removed]",
      "text/plain": [
       "<Figure size 640x480 with 1 Axes>"
      ]
     },
     "metadata": {},
     "output_type": "display_data"
    }
   ],
   "source": [
    "# Check the distribution\n",
    "q1 = games['attendance'].quantile(0.25)\n",
    "q3 = games['attendance'].quantile(0.75)\n",
    "median = games['attendance'].median()\n",
    "mean = games['attendance'].mean()\n",
    "iqr = q3 - q1\n",
    "max = games['attendance'].max()\n",
    "print(\"Quartile 1: \", q1)\n",
    "print(\"Quartile 3: \",q3)\n",
    "print(\"Median: \", median)\n",
    "print(\"Mean: \", mean)\n",
    "print(\"IQR: \", iqr)\n",
    "print(\"MAX: \", max)\n",
    "games[['attendance']].boxplot()\n",
    "plt.show()"
   ]
  },
  {
   "cell_type": "code",
   "execution_count": 132,
   "id": "99cb71c7-ba7e-4a3d-8d02-2e600fb16e0a",
   "metadata": {},
   "outputs": [],
   "source": [
    "# Importing required Libraries for preparing Machinge learning\n",
    "from sklearn.model_selection import train_test_split\n",
    "from sklearn.neighbors import KNeighborsClassifier\n",
    "from sklearn.preprocessing import StandardScaler, LabelEncoder\n",
    "from sklearn.metrics import accuracy_score, classification_report, confusion_matrix, f1_score, precision_score, recall_score\n",
    "from sklearn.metrics import roc_auc_score, roc_curve, RocCurveDisplay\n",
    "import datetime"
   ]
  },
  {
   "cell_type": "code",
   "execution_count": 168,
   "id": "ccff943f-2009-4e72-a7f3-1454dbf1dd8f",
   "metadata": {
    "scrolled": true
   },
   "outputs": [
    {
     "data": {
      "text/html": [
       "<div>\n",
       "<style scoped>\n",
       "    .dataframe tbody tr th:only-of-type {\n",
       "        vertical-align: middle;\n",
       "    }\n",
       "\n",
       "    .dataframe tbody tr th {\n",
       "        vertical-align: top;\n",
       "    }\n",
       "\n",
       "    .dataframe thead th {\n",
       "        text-align: right;\n",
       "    }\n",
       "</style>\n",
       "<table border=\"1\" class=\"dataframe\">\n",
       "  <thead>\n",
       "    <tr style=\"text-align: right;\">\n",
       "      <th></th>\n",
       "      <th>season</th>\n",
       "      <th>attendance</th>\n",
       "      <th>day_of_week</th>\n",
       "    </tr>\n",
       "  </thead>\n",
       "  <tbody>\n",
       "    <tr>\n",
       "      <th>0</th>\n",
       "      <td>-1.415071</td>\n",
       "      <td>-1.235540</td>\n",
       "      <td>-0.286015</td>\n",
       "    </tr>\n",
       "    <tr>\n",
       "      <th>1</th>\n",
       "      <td>-1.415071</td>\n",
       "      <td>-1.254131</td>\n",
       "      <td>0.321720</td>\n",
       "    </tr>\n",
       "    <tr>\n",
       "      <th>2</th>\n",
       "      <td>-1.415071</td>\n",
       "      <td>-1.351745</td>\n",
       "      <td>-0.286015</td>\n",
       "    </tr>\n",
       "    <tr>\n",
       "      <th>3</th>\n",
       "      <td>-1.415071</td>\n",
       "      <td>-1.116822</td>\n",
       "      <td>0.929455</td>\n",
       "    </tr>\n",
       "    <tr>\n",
       "      <th>4</th>\n",
       "      <td>-1.415071</td>\n",
       "      <td>-0.968149</td>\n",
       "      <td>0.929455</td>\n",
       "    </tr>\n",
       "    <tr>\n",
       "      <th>...</th>\n",
       "      <td>...</td>\n",
       "      <td>...</td>\n",
       "      <td>...</td>\n",
       "    </tr>\n",
       "    <tr>\n",
       "      <th>3263</th>\n",
       "      <td>1.451410</td>\n",
       "      <td>1.189995</td>\n",
       "      <td>-1.501484</td>\n",
       "    </tr>\n",
       "    <tr>\n",
       "      <th>3264</th>\n",
       "      <td>0.632415</td>\n",
       "      <td>-1.385156</td>\n",
       "      <td>0.929455</td>\n",
       "    </tr>\n",
       "    <tr>\n",
       "      <th>3265</th>\n",
       "      <td>1.041913</td>\n",
       "      <td>-1.212341</td>\n",
       "      <td>0.321720</td>\n",
       "    </tr>\n",
       "    <tr>\n",
       "      <th>3266</th>\n",
       "      <td>0.632415</td>\n",
       "      <td>1.723365</td>\n",
       "      <td>0.321720</td>\n",
       "    </tr>\n",
       "    <tr>\n",
       "      <th>3267</th>\n",
       "      <td>-0.596077</td>\n",
       "      <td>-0.516892</td>\n",
       "      <td>0.929455</td>\n",
       "    </tr>\n",
       "  </tbody>\n",
       "</table>\n",
       "<p>3268 rows × 3 columns</p>\n",
       "</div>"
      ],
      "text/plain": [
       "        season  attendance  day_of_week\n",
       "0    -1.415071   -1.235540    -0.286015\n",
       "1    -1.415071   -1.254131     0.321720\n",
       "2    -1.415071   -1.351745    -0.286015\n",
       "3    -1.415071   -1.116822     0.929455\n",
       "4    -1.415071   -0.968149     0.929455\n",
       "...        ...         ...          ...\n",
       "3263  1.451410    1.189995    -1.501484\n",
       "3264  0.632415   -1.385156     0.929455\n",
       "3265  1.041913   -1.212341     0.321720\n",
       "3266  0.632415    1.723365     0.321720\n",
       "3267 -0.596077   -0.516892     0.929455\n",
       "\n",
       "[3268 rows x 3 columns]"
      ]
     },
     "execution_count": 168,
     "metadata": {},
     "output_type": "execute_result"
    }
   ],
   "source": [
    "# Making the data ready for machine learning model\n",
    "# Extracting required columns from games table\n",
    "knn_df = games[['date', 'season', 'attendance', 'stadium']]\n",
    "knn_df['date'] = pd.to_datetime(knn_df['date']) # converting to datetime\n",
    "\n",
    "# Extract day of the week (0=Monday, 6=Sunday)\n",
    "knn_df['day_of_week'] = knn_df['date'].dt.dayofweek\n",
    "\n",
    "# Encode the stadiums (dependent features)\n",
    "le = LabelEncoder()\n",
    "knn_df['stadium_encoded'] = le.fit_transform(knn_df['stadium'])\n",
    "\n",
    "# Standardize the independent features\n",
    "scaler = StandardScaler()\n",
    "knn_df_scaled = pd.DataFrame(scaler.fit_transform(knn_df[['season', 'attendance', 'day_of_week']]), columns = ['season', 'attendance', 'day_of_week'])\n",
    "knn_df_scaled"
   ]
  },
  {
   "cell_type": "code",
   "execution_count": 170,
   "id": "49e72ba9-e6dc-47aa-86f4-0ffba696ffcc",
   "metadata": {},
   "outputs": [
    {
     "data": {
      "image/png": "[encoded data removed]",
      "text/plain": [
       "<Figure size 640x480 with 2 Axes>"
      ]
     },
     "metadata": {},
     "output_type": "display_data"
    }
   ],
   "source": [
    "# Checking for Correlation between stadiums and numerical variables\n",
    "corr = pd.concat((knn_df_scaled, knn_df['stadium_encoded']), axis = 1).corr()\n",
    "sns.heatmap(corr, annot= True, fmt= '0f')\n",
    "plt.show()"
   ]
  },
  {
   "cell_type": "code",
   "execution_count": 171,
   "id": "4d19f03d-ce0b-417b-802d-70ba8e16369a",
   "metadata": {},
   "outputs": [
    {
     "name": "stdout",
     "output_type": "stream",
     "text": [
      "X shape:  (3268, 1)\n",
      "y shape:  (3268,)\n"
     ]
    }
   ],
   "source": [
    "# Select features: day_of_week, season, and attendance\n",
    "X = knn_df_scaled[['attendance']]\n",
    "y = knn_df['stadium_encoded']\n",
    "print(\"X shape: \", X.shape)\n",
    "print(\"y shape: \", y.shape)"
   ]
  },
  {
   "cell_type": "code",
   "execution_count": 174,
   "id": "e55b9c72-6a5e-47a3-9f29-f8dc05a455d5",
   "metadata": {},
   "outputs": [
    {
     "name": "stdout",
     "output_type": "stream",
     "text": [
      "X_train shape:  (2287, 1)\n",
      "X_test shape:  (981, 1)\n",
      "y_train shape:  (2287,)\n",
      "y_test shape:  (981,)\n"
     ]
    }
   ],
   "source": [
    "# Train-Test Split\n",
    "X_train, X_test, y_train, y_test = train_test_split(X, y, test_size=0.3, random_state=0)\n",
    "print(\"X_train shape: \", X_train.shape)\n",
    "print(\"X_test shape: \", X_test.shape)\n",
    "print(\"y_train shape: \", y_train.shape)\n",
    "print(\"y_test shape: \", y_test.shape)"
   ]
  },
  {
   "cell_type": "code",
   "execution_count": 176,
   "id": "9788d822-e61b-4549-b2cc-d27d4966e262",
   "metadata": {},
   "outputs": [
    {
     "data": {
      "image/png": "[encoded data removed]",
      "text/plain": [
       "<Figure size 700x500 with 1 Axes>"
      ]
     },
     "metadata": {},
     "output_type": "display_data"
    }
   ],
   "source": [
    "# Finding Optimal k-nearest neighbors with least error rate\n",
    "from sklearn import neighbors\n",
    "\n",
    "error_rate = []\n",
    "n = 20\n",
    "for i in range(1, n-1):\n",
    "    clf_food = neighbors.KNeighborsClassifier(n_neighbors = i)\n",
    "    clf_food.fit(X_train, y_train)\n",
    "    pred_i = clf_food.predict(X_test)\n",
    "    error_rate.append(np.mean(pred_i != y_test))\n",
    "\n",
    "# print(round(np.sqrt(len(X_train))))\n",
    "\n",
    "# Scatter plot with line chart comparison for lowest error for each k-nearest neighbors\n",
    "import matplotlib.pyplot as plt\n",
    "plt.figure(figsize= (7, 5))\n",
    "plt.plot(range(1, n-1), error_rate, color = 'blue', linestyle = 'dashed', marker = 'o')\n",
    "plt.title('Error Rate Vs K-Value')\n",
    "plt.xlabel('K')\n",
    "plt.ylabel('Error Rate')\n",
    "plt.show()"
   ]
  },
  {
   "cell_type": "code",
   "execution_count": 219,
   "id": "f22352ef-9fdf-464f-b3d6-8272654ebaed",
   "metadata": {},
   "outputs": [
    {
     "name": "stdout",
     "output_type": "stream",
     "text": [
      "Accuracy on test:  0.2762487257900102\n"
     ]
    },
    {
     "data": {
      "text/html": [
       "<div>\n",
       "<style scoped>\n",
       "    .dataframe tbody tr th:only-of-type {\n",
       "        vertical-align: middle;\n",
       "    }\n",
       "\n",
       "    .dataframe tbody tr th {\n",
       "        vertical-align: top;\n",
       "    }\n",
       "\n",
       "    .dataframe thead th {\n",
       "        text-align: right;\n",
       "    }\n",
       "</style>\n",
       "<table border=\"1\" class=\"dataframe\">\n",
       "  <thead>\n",
       "    <tr style=\"text-align: right;\">\n",
       "      <th></th>\n",
       "      <th>precision</th>\n",
       "      <th>recall</th>\n",
       "      <th>f1-score</th>\n",
       "      <th>support</th>\n",
       "    </tr>\n",
       "  </thead>\n",
       "  <tbody>\n",
       "    <tr>\n",
       "      <th>11</th>\n",
       "      <td>0.666667</td>\n",
       "      <td>0.800000</td>\n",
       "      <td>0.727273</td>\n",
       "      <td>15.0</td>\n",
       "    </tr>\n",
       "    <tr>\n",
       "      <th>86</th>\n",
       "      <td>0.769231</td>\n",
       "      <td>1.000000</td>\n",
       "      <td>0.869565</td>\n",
       "      <td>10.0</td>\n",
       "    </tr>\n",
       "    <tr>\n",
       "      <th>240</th>\n",
       "      <td>0.870968</td>\n",
       "      <td>0.843750</td>\n",
       "      <td>0.857143</td>\n",
       "      <td>32.0</td>\n",
       "    </tr>\n",
       "    <tr>\n",
       "      <th>337</th>\n",
       "      <td>0.700000</td>\n",
       "      <td>0.807692</td>\n",
       "      <td>0.750000</td>\n",
       "      <td>26.0</td>\n",
       "    </tr>\n",
       "  </tbody>\n",
       "</table>\n",
       "</div>"
      ],
      "text/plain": [
       "     precision    recall  f1-score  support\n",
       "11    0.666667  0.800000  0.727273     15.0\n",
       "86    0.769231  1.000000  0.869565     10.0\n",
       "240   0.870968  0.843750  0.857143     32.0\n",
       "337   0.700000  0.807692  0.750000     26.0"
      ]
     },
     "metadata": {},
     "output_type": "display_data"
    },
    {
     "data": {
      "text/html": [
       "<div>\n",
       "<style scoped>\n",
       "    .dataframe tbody tr th:only-of-type {\n",
       "        vertical-align: middle;\n",
       "    }\n",
       "\n",
       "    .dataframe tbody tr th {\n",
       "        vertical-align: top;\n",
       "    }\n",
       "\n",
       "    .dataframe thead th {\n",
       "        text-align: right;\n",
       "    }\n",
       "</style>\n",
       "<table border=\"1\" class=\"dataframe\">\n",
       "  <thead>\n",
       "    <tr style=\"text-align: right;\">\n",
       "      <th></th>\n",
       "      <th>stadium</th>\n",
       "      <th>stadium_encoded</th>\n",
       "    </tr>\n",
       "  </thead>\n",
       "  <tbody>\n",
       "    <tr>\n",
       "      <th>12</th>\n",
       "      <td>SIGNAL IDUNA PARK</td>\n",
       "      <td>240</td>\n",
       "    </tr>\n",
       "    <tr>\n",
       "      <th>19</th>\n",
       "      <td>Veltins-Arena</td>\n",
       "      <td>337</td>\n",
       "    </tr>\n",
       "    <tr>\n",
       "      <th>54</th>\n",
       "      <td>Emirates Stadium</td>\n",
       "      <td>86</td>\n",
       "    </tr>\n",
       "    <tr>\n",
       "      <th>90</th>\n",
       "      <td>Allianz Arena</td>\n",
       "      <td>11</td>\n",
       "    </tr>\n",
       "  </tbody>\n",
       "</table>\n",
       "</div>"
      ],
      "text/plain": [
       "              stadium  stadium_encoded\n",
       "12  SIGNAL IDUNA PARK              240\n",
       "19      Veltins-Arena              337\n",
       "54   Emirates Stadium               86\n",
       "90      Allianz Arena               11"
      ]
     },
     "metadata": {},
     "output_type": "display_data"
    }
   ],
   "source": [
    "# Taking k-nearest neighbors with lowest error and training the model\n",
    "knn = KNeighborsClassifier(n_neighbors=15)  \n",
    "knn.fit(X_train, y_train)\n",
    "\n",
    "# Predict and evaluate the model\n",
    "y_pred = knn.predict(X_test)\n",
    "print(\"Accuracy on test: \", accuracy_score(y_test, y_pred))\n",
    "\n",
    "# Check high correct prediction stadiumns\n",
    "report = classification_report(y_test, y_pred, output_dict=True)\n",
    "report_df = pd.DataFrame(report).T\n",
    "display(report_df[report_df['f1-score']>= 0.70])\n",
    "\n",
    "# Checking the names of high correct prediction stadiums\n",
    "index_stadiums = report_df[report_df['f1-score']>= 0.70].index\n",
    "cond = knn_df['stadium_encoded'].astype(str).isin(index_stadiums.astype(str))\n",
    "display(knn_df.loc[cond][['stadium', 'stadium_encoded']].drop_duplicates())"
   ]
  },
  {
   "cell_type": "raw",
   "id": "2e251f2f-2157-4e7d-87f0-06a7bda90808",
   "metadata": {
    "jupyter": {
     "source_hidden": true
    },
    "scrolled": true
   },
   "source": [
    "~ dont delete may need\n",
    "# Predicting on New Data\n",
    "\n",
    "# Encode the stadiums (dependent features) on new data\n",
    "predict_encoder = LabelEncoder()\n",
    "test['stadium_encoded'] = predict_encoder.fit_transform(test[['stadium']])\n",
    "\n",
    "# Standardize the independent features for new data\n",
    "predict_scaler = StandardScaler()\n",
    "predict_data_test = pd.DataFrame(predict_scaler.fit_transform(test[['attendance']]), columns = ['attendance'])\n",
    "predict_data_test\n",
    "\n",
    "## Predicting the Dependent Variable (scaled prediction)\n",
    "predicted = knn.predict(predict_data_test)\n",
    "print(\"Scaled Prediction: \", predicted)\n",
    "print()\n",
    "\n",
    "## Unscale the Predicted\n",
    "Unscaled_predicted = predict_scaler.inverse_transform(predicted.reshape(-1, 1))\n",
    "print(\"UnScaled Prediction: \", Unscaled_predicted)\n",
    "print()\n",
    "\n",
    "\n",
    "## Verifying the Actual Dependent Variable Values\n",
    "print(\"Actual Values: \",test[\"stadium_encoded\"].values)"
   ]
  },
  {
   "cell_type": "markdown",
   "id": "0ad44b96-6af3-4de1-a0c8-194bd59c076b",
   "metadata": {},
   "source": [
    "# SAVING FILES TO EXCEL FOR POWERPOINT PRESENTATIONS"
   ]
  },
  {
   "cell_type": "raw",
   "id": "91a105ef-50f4-415b-ab05-736013133abb",
   "metadata": {
    "jupyter": {
     "source_hidden": true
    },
    "scrolled": true
   },
   "source": [
    "~~ DONT DELETE THIS \n",
    "# Define the file path\n",
    "workbook_path = r'C:\\Users\\Mihir\\8_CAPSTONE PROJECT\\excel_files_for_ppt\\1_performance_analysis.xlsx'\n",
    "\n",
    "# Create DataFrame from the player_prob dictionary\n",
    "player_prob_df = pd.DataFrame.from_dict(player_prob, orient='index', columns=['Probability_of_Team_Winning'])\n",
    "player_prob_df.index.name = 'Player'  # Set the index name for clarity\n",
    "\n",
    "sub_position_df = pd.DataFrame.from_dict(sub_position_dict, orient = 'index', columns = ['Probability_Scoring_Goal'])\n",
    "sub_position_df.index.name = 'Sub_Position'\n",
    "\n",
    "# Proceed with the ExcelWriter if the file exists\n",
    "writer = pd.ExcelWriter(workbook_path, engine='openpyxl', mode='a', if_sheet_exists='replace')\n",
    "\n",
    "# Save the DataFrame to a new sheet\n",
    "PERFORMANCE_PLAYER_CONTRIBUTION.to_excel(writer, sheet_name=\"PERFORMANCE_PLAYER_CONTRIBUTION\", index=False)\n",
    "\n",
    "PERFORMANCE_CARDS_PLAYER.to_excel(writer, sheet_name=\"PERFORMANCE_CARDS_PLAYER\", index=False)\n",
    "\n",
    "top_players.to_excel(writer, sheet_name=\"top_players\", index=False)\n",
    "\n",
    "# player_prob = pd.DataFrame.from_dict(player_prob, orient = 'index') # , index = player_prob.keys()\n",
    "player_prob_df.to_excel(writer, sheet_name=\"player_prob\", index=True)\n",
    "\n",
    "top_10_teams_home.reset_index().to_excel(writer, sheet_name=\"top_10_teams_home\", index=False)\n",
    "\n",
    "# sub_position = pd.DataFrame.from_dict(sub_position_dict, orient = 'index') # , index = sub_position_dict.keys()\n",
    "sub_position_df.to_excel(writer, sheet_name=\"sub_position\", index=True)\n",
    "writer.close()"
   ]
  },
  {
   "cell_type": "code",
   "execution_count": null,
   "id": "57852c63-a304-4afe-a61c-d905d8bada29",
   "metadata": {},
   "outputs": [],
   "source": []
  },
  {
   "cell_type": "code",
   "execution_count": 60,
   "id": "0877a137-1cbe-4e68-8af9-7739d58a9cd9",
   "metadata": {},
   "outputs": [
    {
     "name": "stdout",
     "output_type": "stream",
     "text": [
      "DataFrames successfully written to Excel.\n"
     ]
    }
   ],
   "source": [
    "# Define the file path\n",
    "workbook_path = r'C:\\Users\\Mihir\\8_CAPSTONE PROJECT\\excel_files_for_ppt\\4_Attendance_Stadium.xlsx'\n",
    "\n",
    "# Create DataFrame from the player_prob dictionary\n",
    "try:\n",
    "    # Proceed with the ExcelWriter if the file exists\n",
    "    with pd.ExcelWriter(workbook_path, engine='openpyxl', mode='a', if_sheet_exists='replace') as writer:\n",
    "        # Save the DataFrame to a new sheet\n",
    "        \n",
    "        ATTENDANCE_STADIUM.to_excel(writer, sheet_name=\"ATTENDANCE_STADIUM\", index=False)\n",
    "        \n",
    "        ATTENDANCE_GOALS_CORR.to_excel(writer, sheet_name=\"ATTENDANCE_GOALS_CORR\", index=False)\n",
    "        \n",
    "        ATTENDANCE_WINS_CORR.to_excel(writer, sheet_name=\"ATTENDANCE_WINS_CORR\", index=False) \n",
    "\n",
    "        STADIUM_ATTEND_OUTCOME_INFLUENCE.to_excel(writer, sheet_name=\"STADIUM_ATTEND_OUTCOME_INFLUEN\", index=False)\n",
    "\n",
    "        # STADIUM_OUTCOME_INFLUENCE.to_excel(writer, sheet_name=\"STADIUM_OUTCOME_INFLUENCE\", index=False)\n",
    "        \n",
    "        # STADIUM_ATTENDANCE_INFLUENCE.to_excel(writer, sheet_name=\"STADIUM_ATTENDANCE_INFLUENCE\", index=False)\n",
    "        \n",
    "        ATTENDANCE_MAX_MIN_ACROSS_SEASONS_COMPETITIONS.to_excel(writer, sheet_name=\"ATENDNCE_MAX_MIN_ACR_SEAS_COMP\", index=False)\n",
    "        \n",
    "        ATTENDANCE_HOME_CLUBWISE.to_excel(writer, sheet_name=\"ATTENDANCE_HOME_CLUBWISE\", index=False)\n",
    "        \n",
    "        ATTENDANCE_DAY_MATCH_ROUND_CORR.to_excel(writer, sheet_name=\"ATTENDANCE_DAY_MATCH_ROUND_CORR\", index=False)\n",
    "        \n",
    "        ATTENDANCE_FAN_ENGAGEMENT_RIVALS.to_excel(writer, sheet_name=\"ATTENDANCE_FAN_ENGAGEMENT_RIVALS\", index=False)\n",
    "    \n",
    "        # TEAM_HOME_PERFORMANCE.to_excel(writer, sheet_name=\"TEAM_HOME_PERFORMANCE\", index=False)\n",
    "        # TEAM_AWAY_PERFORMANCE.to_excel(writer, sheet_name=\"TEAM_AWAY_PERFORMANCE\", index=False)\n",
    "        # TEAM_MANAGER_PERFORMANCE.to_excel(writer, sheet_name=\"TEAM_MANAGER_PERFORMANCE\", index=False)\n",
    "        # TEAM_WIN_RATIO.to_excel(writer, sheet_name=\"TEAM_WIN_RATIO\", index=False)\n",
    "        # TEAM_POSITION_OUTCOME.to_excel(writer, sheet_name=\"TEAM_POSITION_OUTCOME\", index=False)\n",
    "        # TEAM_SEASON_PERFORMANCE.to_excel(writer, sheet_name=\"TEAM_SEASON_PERFORMANCE\", index=False)\n",
    "\n",
    "    print(\"DataFrames successfully written to Excel.\")\n",
    "\n",
    "except Exception as e:\n",
    "    print(f\"An error occurred while writing to Excel: {e}\")"
   ]
  },
  {
   "cell_type": "code",
   "execution_count": null,
   "id": "29325f24-a361-47f5-b985-1e3e4572c55b",
   "metadata": {},
   "outputs": [],
   "source": []
  }
 ],
 "metadata": {
  "kernelspec": {
   "display_name": "Python 3 (ipykernel)",
   "language": "python",
   "name": "python3"
  },
  "language_info": {
   "codemirror_mode": {
    "name": "ipython",
    "version": 3
   },
   "file_extension": ".py",
   "mimetype": "text/x-python",
   "name": "python",
   "nbconvert_exporter": "python",
   "pygments_lexer": "ipython3",
   "version": "3.11.5"
  }
 },
 "nbformat": 4,
 "nbformat_minor": 5
}
